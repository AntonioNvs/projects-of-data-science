{
  "nbformat": 4,
  "nbformat_minor": 0,
  "metadata": {
    "colab": {
      "name": "Desafio do Titanic.ipynb",
      "provenance": [],
      "collapsed_sections": [],
      "authorship_tag": "ABX9TyPllSyNP4DgxIVWZKRJmI9t",
      "include_colab_link": true
    },
    "kernelspec": {
      "name": "python3",
      "display_name": "Python 3"
    },
    "language_info": {
      "name": "python"
    }
  },
  "cells": [
    {
      "cell_type": "markdown",
      "metadata": {
        "id": "view-in-github",
        "colab_type": "text"
      },
      "source": [
        "<a href=\"https://colab.research.google.com/github/AntonioNvs/projects-of-data-science/blob/main/Desafio_do_Titanic_Kaggle.ipynb\" target=\"_parent\"><img src=\"https://colab.research.google.com/assets/colab-badge.svg\" alt=\"Open In Colab\"/></a>"
      ]
    },
    {
      "cell_type": "markdown",
      "metadata": {
        "id": "VaTknAjzHyWK"
      },
      "source": [
        "# Desafio do Titanic\n",
        "\n",
        "Resolução do famoso desafio do Titanic, com detalhamento do processo e das hipóteses efetuadas.\n",
        "\n",
        "De início, verifica-se por ser um problema de classificação, deve-se estabelecer recursos que são de importância e os que não são. Logo, com a premissa da sobrevivência estar ligada a classe socioeconômica do indivíduo, pode-se supor alguns pontos, que serão analisados para confirmar as suposições:\n",
        "\n",
        "- Ligação com o preço da tarifa;\n",
        "- Nomeclatura da pessoa (Mr., Mrs., entre outros);\n",
        "- Tipo da embarcação, devido ao espaço geográfico estar ligado a economia também;\n",
        "- Idade\n",
        "\n",
        "Após analisar tais suposições e remodular os dados de acordo, será utilizado os modelos de classificação por regressão logística, árvore de decisão e Random Forest.\n",
        "\n",
        "Depois disso, poderá ser feito alterações em alguns parâmetros e construções de novas lógicas para melhorar o desempenho.\n",
        "\n",
        "Portanto, essa será minha resolução. Ao final do programa, irá ser apresentado minha conclusão acerca do desafio, e também, ao longo do código, a veracidade das relações propostas.\n"
      ]
    },
    {
      "cell_type": "markdown",
      "metadata": {
        "id": "R_vjMgyvCtJ9"
      },
      "source": [
        "## Importação dos dados"
      ]
    },
    {
      "cell_type": "code",
      "metadata": {
        "id": "7FppE_3uBz_U"
      },
      "source": [
        "import pandas as pd\n",
        "import matplotlib.pyplot as plt\n",
        "import numpy as np"
      ],
      "execution_count": 23,
      "outputs": []
    },
    {
      "cell_type": "code",
      "metadata": {
        "id": "YvwHH7lQCw2Z"
      },
      "source": [
        "data_test = pd.read_csv('https://raw.githubusercontent.com/AntonioNvs/projects-of-data-science/main/datasets/titanic/test.csv')\n",
        "data_train = pd.read_csv('https://raw.githubusercontent.com/AntonioNvs/projects-of-data-science/main/datasets/titanic/train.csv')"
      ],
      "execution_count": 24,
      "outputs": []
    },
    {
      "cell_type": "code",
      "metadata": {
        "colab": {
          "base_uri": "https://localhost:8080/",
          "height": 203
        },
        "id": "x6dSOqHFC2rU",
        "outputId": "ff63c63c-df8a-4dee-f802-8e885dbd7d3b"
      },
      "source": [
        "data_test.head()"
      ],
      "execution_count": 25,
      "outputs": [
        {
          "output_type": "execute_result",
          "data": {
            "text/html": [
              "<div>\n",
              "<style scoped>\n",
              "    .dataframe tbody tr th:only-of-type {\n",
              "        vertical-align: middle;\n",
              "    }\n",
              "\n",
              "    .dataframe tbody tr th {\n",
              "        vertical-align: top;\n",
              "    }\n",
              "\n",
              "    .dataframe thead th {\n",
              "        text-align: right;\n",
              "    }\n",
              "</style>\n",
              "<table border=\"1\" class=\"dataframe\">\n",
              "  <thead>\n",
              "    <tr style=\"text-align: right;\">\n",
              "      <th></th>\n",
              "      <th>PassengerId</th>\n",
              "      <th>Pclass</th>\n",
              "      <th>Name</th>\n",
              "      <th>Sex</th>\n",
              "      <th>Age</th>\n",
              "      <th>SibSp</th>\n",
              "      <th>Parch</th>\n",
              "      <th>Ticket</th>\n",
              "      <th>Fare</th>\n",
              "      <th>Cabin</th>\n",
              "      <th>Embarked</th>\n",
              "    </tr>\n",
              "  </thead>\n",
              "  <tbody>\n",
              "    <tr>\n",
              "      <th>0</th>\n",
              "      <td>892</td>\n",
              "      <td>3</td>\n",
              "      <td>Kelly, Mr. James</td>\n",
              "      <td>male</td>\n",
              "      <td>34.5</td>\n",
              "      <td>0</td>\n",
              "      <td>0</td>\n",
              "      <td>330911</td>\n",
              "      <td>7.8292</td>\n",
              "      <td>NaN</td>\n",
              "      <td>Q</td>\n",
              "    </tr>\n",
              "    <tr>\n",
              "      <th>1</th>\n",
              "      <td>893</td>\n",
              "      <td>3</td>\n",
              "      <td>Wilkes, Mrs. James (Ellen Needs)</td>\n",
              "      <td>female</td>\n",
              "      <td>47.0</td>\n",
              "      <td>1</td>\n",
              "      <td>0</td>\n",
              "      <td>363272</td>\n",
              "      <td>7.0000</td>\n",
              "      <td>NaN</td>\n",
              "      <td>S</td>\n",
              "    </tr>\n",
              "    <tr>\n",
              "      <th>2</th>\n",
              "      <td>894</td>\n",
              "      <td>2</td>\n",
              "      <td>Myles, Mr. Thomas Francis</td>\n",
              "      <td>male</td>\n",
              "      <td>62.0</td>\n",
              "      <td>0</td>\n",
              "      <td>0</td>\n",
              "      <td>240276</td>\n",
              "      <td>9.6875</td>\n",
              "      <td>NaN</td>\n",
              "      <td>Q</td>\n",
              "    </tr>\n",
              "    <tr>\n",
              "      <th>3</th>\n",
              "      <td>895</td>\n",
              "      <td>3</td>\n",
              "      <td>Wirz, Mr. Albert</td>\n",
              "      <td>male</td>\n",
              "      <td>27.0</td>\n",
              "      <td>0</td>\n",
              "      <td>0</td>\n",
              "      <td>315154</td>\n",
              "      <td>8.6625</td>\n",
              "      <td>NaN</td>\n",
              "      <td>S</td>\n",
              "    </tr>\n",
              "    <tr>\n",
              "      <th>4</th>\n",
              "      <td>896</td>\n",
              "      <td>3</td>\n",
              "      <td>Hirvonen, Mrs. Alexander (Helga E Lindqvist)</td>\n",
              "      <td>female</td>\n",
              "      <td>22.0</td>\n",
              "      <td>1</td>\n",
              "      <td>1</td>\n",
              "      <td>3101298</td>\n",
              "      <td>12.2875</td>\n",
              "      <td>NaN</td>\n",
              "      <td>S</td>\n",
              "    </tr>\n",
              "  </tbody>\n",
              "</table>\n",
              "</div>"
            ],
            "text/plain": [
              "   PassengerId  Pclass  ... Cabin Embarked\n",
              "0          892       3  ...   NaN        Q\n",
              "1          893       3  ...   NaN        S\n",
              "2          894       2  ...   NaN        Q\n",
              "3          895       3  ...   NaN        S\n",
              "4          896       3  ...   NaN        S\n",
              "\n",
              "[5 rows x 11 columns]"
            ]
          },
          "metadata": {
            "tags": []
          },
          "execution_count": 25
        }
      ]
    },
    {
      "cell_type": "code",
      "metadata": {
        "colab": {
          "base_uri": "https://localhost:8080/",
          "height": 237
        },
        "id": "lNN-JPyHC35C",
        "outputId": "f928f028-c344-4fe3-c615-a33c9990f8f4"
      },
      "source": [
        "data_train.head()"
      ],
      "execution_count": 26,
      "outputs": [
        {
          "output_type": "execute_result",
          "data": {
            "text/html": [
              "<div>\n",
              "<style scoped>\n",
              "    .dataframe tbody tr th:only-of-type {\n",
              "        vertical-align: middle;\n",
              "    }\n",
              "\n",
              "    .dataframe tbody tr th {\n",
              "        vertical-align: top;\n",
              "    }\n",
              "\n",
              "    .dataframe thead th {\n",
              "        text-align: right;\n",
              "    }\n",
              "</style>\n",
              "<table border=\"1\" class=\"dataframe\">\n",
              "  <thead>\n",
              "    <tr style=\"text-align: right;\">\n",
              "      <th></th>\n",
              "      <th>PassengerId</th>\n",
              "      <th>Survived</th>\n",
              "      <th>Pclass</th>\n",
              "      <th>Name</th>\n",
              "      <th>Sex</th>\n",
              "      <th>Age</th>\n",
              "      <th>SibSp</th>\n",
              "      <th>Parch</th>\n",
              "      <th>Ticket</th>\n",
              "      <th>Fare</th>\n",
              "      <th>Cabin</th>\n",
              "      <th>Embarked</th>\n",
              "    </tr>\n",
              "  </thead>\n",
              "  <tbody>\n",
              "    <tr>\n",
              "      <th>0</th>\n",
              "      <td>1</td>\n",
              "      <td>0</td>\n",
              "      <td>3</td>\n",
              "      <td>Braund, Mr. Owen Harris</td>\n",
              "      <td>male</td>\n",
              "      <td>22.0</td>\n",
              "      <td>1</td>\n",
              "      <td>0</td>\n",
              "      <td>A/5 21171</td>\n",
              "      <td>7.2500</td>\n",
              "      <td>NaN</td>\n",
              "      <td>S</td>\n",
              "    </tr>\n",
              "    <tr>\n",
              "      <th>1</th>\n",
              "      <td>2</td>\n",
              "      <td>1</td>\n",
              "      <td>1</td>\n",
              "      <td>Cumings, Mrs. John Bradley (Florence Briggs Th...</td>\n",
              "      <td>female</td>\n",
              "      <td>38.0</td>\n",
              "      <td>1</td>\n",
              "      <td>0</td>\n",
              "      <td>PC 17599</td>\n",
              "      <td>71.2833</td>\n",
              "      <td>C85</td>\n",
              "      <td>C</td>\n",
              "    </tr>\n",
              "    <tr>\n",
              "      <th>2</th>\n",
              "      <td>3</td>\n",
              "      <td>1</td>\n",
              "      <td>3</td>\n",
              "      <td>Heikkinen, Miss. Laina</td>\n",
              "      <td>female</td>\n",
              "      <td>26.0</td>\n",
              "      <td>0</td>\n",
              "      <td>0</td>\n",
              "      <td>STON/O2. 3101282</td>\n",
              "      <td>7.9250</td>\n",
              "      <td>NaN</td>\n",
              "      <td>S</td>\n",
              "    </tr>\n",
              "    <tr>\n",
              "      <th>3</th>\n",
              "      <td>4</td>\n",
              "      <td>1</td>\n",
              "      <td>1</td>\n",
              "      <td>Futrelle, Mrs. Jacques Heath (Lily May Peel)</td>\n",
              "      <td>female</td>\n",
              "      <td>35.0</td>\n",
              "      <td>1</td>\n",
              "      <td>0</td>\n",
              "      <td>113803</td>\n",
              "      <td>53.1000</td>\n",
              "      <td>C123</td>\n",
              "      <td>S</td>\n",
              "    </tr>\n",
              "    <tr>\n",
              "      <th>4</th>\n",
              "      <td>5</td>\n",
              "      <td>0</td>\n",
              "      <td>3</td>\n",
              "      <td>Allen, Mr. William Henry</td>\n",
              "      <td>male</td>\n",
              "      <td>35.0</td>\n",
              "      <td>0</td>\n",
              "      <td>0</td>\n",
              "      <td>373450</td>\n",
              "      <td>8.0500</td>\n",
              "      <td>NaN</td>\n",
              "      <td>S</td>\n",
              "    </tr>\n",
              "  </tbody>\n",
              "</table>\n",
              "</div>"
            ],
            "text/plain": [
              "   PassengerId  Survived  Pclass  ...     Fare Cabin  Embarked\n",
              "0            1         0       3  ...   7.2500   NaN         S\n",
              "1            2         1       1  ...  71.2833   C85         C\n",
              "2            3         1       3  ...   7.9250   NaN         S\n",
              "3            4         1       1  ...  53.1000  C123         S\n",
              "4            5         0       3  ...   8.0500   NaN         S\n",
              "\n",
              "[5 rows x 12 columns]"
            ]
          },
          "metadata": {
            "tags": []
          },
          "execution_count": 26
        }
      ]
    },
    {
      "cell_type": "markdown",
      "metadata": {
        "id": "qt14w0YVDqV-"
      },
      "source": [
        "## Análise exploratória"
      ]
    },
    {
      "cell_type": "code",
      "metadata": {
        "id": "kv9JuvWpDyXM"
      },
      "source": [
        "# Renomeando as colunas para português\n",
        "columns_train_translate = [\"IdentPassag\", \"Sobreviveu\", \"TipoIngres\", \"Nome\", \"Genero\", \"Idade\", \"IrmOuCjgABrd\", \"PaiOuFlhoABrd\", \"Bilhete\", \"Tarifa\", \"Cabine\", \"PntEmbar\"]\n",
        "columns_train_original = data_train.columns\n",
        "\n",
        "data_train.columns = columns_train_translate"
      ],
      "execution_count": 27,
      "outputs": []
    },
    {
      "cell_type": "code",
      "metadata": {
        "colab": {
          "base_uri": "https://localhost:8080/"
        },
        "id": "cdp0LE-4Ew8o",
        "outputId": "b6ecca55-afe6-4665-b3fd-8ff02213adcf"
      },
      "source": [
        "# Quantidade de cabines\n",
        "data_train['Cabine'].value_counts()"
      ],
      "execution_count": 28,
      "outputs": [
        {
          "output_type": "execute_result",
          "data": {
            "text/plain": [
              "B96 B98        4\n",
              "G6             4\n",
              "C23 C25 C27    4\n",
              "F33            3\n",
              "C22 C26        3\n",
              "              ..\n",
              "B101           1\n",
              "E49            1\n",
              "B73            1\n",
              "A26            1\n",
              "C70            1\n",
              "Name: Cabine, Length: 147, dtype: int64"
            ]
          },
          "metadata": {
            "tags": []
          },
          "execution_count": 28
        }
      ]
    },
    {
      "cell_type": "code",
      "metadata": {
        "colab": {
          "base_uri": "https://localhost:8080/"
        },
        "id": "hsuNXzFXF6QM",
        "outputId": "d5a975c7-dc38-4dd3-e946-8e64ccfa7724"
      },
      "source": [
        "# Número de linhas e colunas do DataFrame\n",
        "data_train.shape"
      ],
      "execution_count": 29,
      "outputs": [
        {
          "output_type": "execute_result",
          "data": {
            "text/plain": [
              "(891, 12)"
            ]
          },
          "metadata": {
            "tags": []
          },
          "execution_count": 29
        }
      ]
    },
    {
      "cell_type": "markdown",
      "metadata": {
        "id": "LJFHBYtHKMTP"
      },
      "source": [
        "### Ligação com o preço da tarifa"
      ]
    },
    {
      "cell_type": "code",
      "metadata": {
        "colab": {
          "base_uri": "https://localhost:8080/",
          "height": 265
        },
        "id": "rGps4CXTGJIl",
        "outputId": "ceff2d87-0e22-4ebf-9a4c-c76d9fe9c42b"
      },
      "source": [
        "# Verificando a relação de sobrevivência e valor do ingresso em gráfico\n",
        "\n",
        "x0 = data_train.query(\"Sobreviveu == 0\")[\"Tarifa\"]\n",
        "y0 = x0 * 0\n",
        "\n",
        "x1 = data_train.query(\"Sobreviveu == 1\")[\"Tarifa\"]\n",
        "y1 = x1 * 0 + 1\n",
        "\n",
        "plt.plot(x0,y0, 'bo')\n",
        "plt.plot(x1, y1, 'ro')\n",
        "plt.show()"
      ],
      "execution_count": 30,
      "outputs": [
        {
          "output_type": "display_data",
          "data": {
            "image/png": "[encoded data removed]",
            "text/plain": [
              "<Figure size 432x288 with 1 Axes>"
            ]
          },
          "metadata": {
            "tags": [],
            "needs_background": "light"
          }
        }
      ]
    },
    {
      "cell_type": "code",
      "metadata": {
        "colab": {
          "base_uri": "https://localhost:8080/"
        },
        "id": "LsnDEyFUGpdq",
        "outputId": "57ab611b-43e8-48db-b532-5686b35f9a09"
      },
      "source": [
        "# Média de tarifa para quem sobreviveu e não sobreviveu\n",
        "\n",
        "print(f'Média da tarifa dos não sobreviventes: {round(x0.mean(), 2)}')\n",
        "print(f'Média da tarifa dos sobreviventes: {round(x1.mean(), 2)}')"
      ],
      "execution_count": 31,
      "outputs": [
        {
          "output_type": "stream",
          "text": [
            "Média da tarifa dos não sobreviventes: 22.12\n",
            "Média da tarifa dos sobreviventes: 48.4\n"
          ],
          "name": "stdout"
        }
      ]
    },
    {
      "cell_type": "markdown",
      "metadata": {
        "id": "P_oPXwuqU2Qw"
      },
      "source": [
        "É notório que a tarifa influencia na sobrevivência do indivíduo, com uma diferença das médias significativas."
      ]
    },
    {
      "cell_type": "markdown",
      "metadata": {
        "id": "xypB4RoKKQEJ"
      },
      "source": [
        "### Nomeclatura da pessoa (Mr., Mrs., entre outros);"
      ]
    },
    {
      "cell_type": "code",
      "metadata": {
        "id": "ECyEVvGsKS5g"
      },
      "source": [
        "# Descobrindo todos os tipos de nomeclaturas, a partir do padrão '\"sobrenome\", \"nomeclatura\". \"Nome\"'\n",
        "\n",
        "nomenclatures = set()\n",
        "\n",
        "for name in data_train['Nome']:\n",
        "  idx_pnt = name.find(',')\n",
        "  # Obtendo a nomeclatura a partir do padrão dito\n",
        "  nomenc = name[idx_pnt+1:].strip().split(' ')[0]\n",
        "  nomenclatures.add(nomenc)"
      ],
      "execution_count": 32,
      "outputs": []
    },
    {
      "cell_type": "code",
      "metadata": {
        "colab": {
          "base_uri": "https://localhost:8080/"
        },
        "id": "ltmlZHW4Lxvb",
        "outputId": "fc7a9027-d688-414d-ed3e-7cef5fa7c34a"
      },
      "source": [
        "# Média de sobrevivência de cada grupo\n",
        "data_name_survive = data_train.query(\"Sobreviveu == 1\")[\"Nome\"]\n",
        "data_name_not_survive = data_train.query(\"Sobreviveu == 0\")[\"Nome\"]\n",
        "\n",
        "for nomenc in nomenclatures:\n",
        "  survive = 0\n",
        "  not_survive = 0\n",
        "\n",
        "  for name in data_name_survive:\n",
        "    if nomenc in name:\n",
        "      survive += 1\n",
        "  \n",
        "  for name in data_name_not_survive:\n",
        "    if nomenc in name:\n",
        "      not_survive += 1\n",
        "\n",
        "  print(f'Nom: {nomenc} - Média de sobrevivência: {survive * 100 / (survive + not_survive)} - Qnt: {survive}')"
      ],
      "execution_count": 33,
      "outputs": [
        {
          "output_type": "stream",
          "text": [
            "Nom: Don. - Média de sobrevivência: 0.0 - Qnt: 0\n",
            "Nom: Mlle. - Média de sobrevivência: 100.0 - Qnt: 2\n",
            "Nom: Mr. - Média de sobrevivência: 15.667311411992262 - Qnt: 81\n",
            "Nom: Major. - Média de sobrevivência: 50.0 - Qnt: 1\n",
            "Nom: Sir. - Média de sobrevivência: 100.0 - Qnt: 1\n",
            "Nom: Dr. - Média de sobrevivência: 42.857142857142854 - Qnt: 3\n",
            "Nom: Rev. - Média de sobrevivência: 0.0 - Qnt: 0\n",
            "Nom: Jonkheer. - Média de sobrevivência: 0.0 - Qnt: 0\n",
            "Nom: Mrs. - Média de sobrevivência: 79.2 - Qnt: 99\n",
            "Nom: Miss. - Média de sobrevivência: 69.78021978021978 - Qnt: 127\n",
            "Nom: Col. - Média de sobrevivência: 50.0 - Qnt: 1\n",
            "Nom: Capt. - Média de sobrevivência: 0.0 - Qnt: 0\n",
            "Nom: Master. - Média de sobrevivência: 57.5 - Qnt: 23\n",
            "Nom: the - Média de sobrevivência: 75.0 - Qnt: 15\n",
            "Nom: Ms. - Média de sobrevivência: 100.0 - Qnt: 1\n",
            "Nom: Lady. - Média de sobrevivência: 100.0 - Qnt: 1\n",
            "Nom: Mme. - Média de sobrevivência: 100.0 - Qnt: 1\n"
          ],
          "name": "stdout"
        }
      ]
    },
    {
      "cell_type": "markdown",
      "metadata": {
        "id": "G1f7xUPjU_Pl"
      },
      "source": [
        "É perceptível que a nomeclatura influencia na sobrevivência do indivíduo, ao considerar, denominações com maior poder, como 'Miss.', que mesmo com uma alta quantidade, possui uma alta taxa de sobrevivência."
      ]
    },
    {
      "cell_type": "markdown",
      "metadata": {
        "id": "RF75LSFNVZwu"
      },
      "source": [
        "### Tipo da embarcação, devido ao espaço geográfico estar ligado a economia também;"
      ]
    },
    {
      "cell_type": "code",
      "metadata": {
        "colab": {
          "base_uri": "https://localhost:8080/"
        },
        "id": "aRrWnObRViaE",
        "outputId": "edb0d5f7-886b-4cdc-c4fc-a66363caf571"
      },
      "source": [
        "# Contagem de cada tipo\n",
        "data_train[\"PntEmbar\"].value_counts()"
      ],
      "execution_count": 34,
      "outputs": [
        {
          "output_type": "execute_result",
          "data": {
            "text/plain": [
              "S    644\n",
              "C    168\n",
              "Q     77\n",
              "Name: PntEmbar, dtype: int64"
            ]
          },
          "metadata": {
            "tags": []
          },
          "execution_count": 34
        }
      ]
    },
    {
      "cell_type": "code",
      "metadata": {
        "colab": {
          "base_uri": "https://localhost:8080/",
          "height": 513
        },
        "id": "QHpqe3pIVbXN",
        "outputId": "427d16ac-e1a3-4b74-a316-14e2068f76bf"
      },
      "source": [
        "# Verificando a relação de sobrevivência e o ponto de embarcação em gráfico\n",
        "data_train.query(\"Sobreviveu == 0\")[\"PntEmbar\"].hist()\n",
        "plt.show()\n",
        "data_train.query(\"Sobreviveu == 1\")[\"PntEmbar\"].hist()\n",
        "plt.show()"
      ],
      "execution_count": 35,
      "outputs": [
        {
          "output_type": "display_data",
          "data": {
            "image/png": "[encoded data removed]",
            "text/plain": [
              "<Figure size 432x288 with 1 Axes>"
            ]
          },
          "metadata": {
            "tags": [],
            "needs_background": "light"
          }
        },
        {
          "output_type": "display_data",
          "data": {
            "image/png": "[encoded data removed]",
            "text/plain": [
              "<Figure size 432x288 with 1 Axes>"
            ]
          },
          "metadata": {
            "tags": [],
            "needs_background": "light"
          }
        }
      ]
    },
    {
      "cell_type": "markdown",
      "metadata": {
        "id": "Y2mmJmjHWliN"
      },
      "source": [
        "Pelos gráficos, nota-se que o ponto de embarcação não tem influência na sobrevivência do indivíduo."
      ]
    },
    {
      "cell_type": "markdown",
      "metadata": {
        "id": "9kxtulsqWt4E"
      },
      "source": [
        "### Idade"
      ]
    },
    {
      "cell_type": "code",
      "metadata": {
        "colab": {
          "base_uri": "https://localhost:8080/",
          "height": 265
        },
        "id": "7BYe8oC4Wtbj",
        "outputId": "ac87f9ea-1284-49ce-9b85-b439caec8df2"
      },
      "source": [
        "# Verificando a relação de sobrevivência e a idade em gráfico\n",
        "\n",
        "x0 = data_train.query(\"Sobreviveu == 0\")[\"Idade\"]\n",
        "y0 = x0 * 0\n",
        "\n",
        "x1 = data_train.query(\"Sobreviveu == 1\")[\"Idade\"]\n",
        "y1 = x1 * 0 + 1\n",
        "\n",
        "plt.plot(x0,y0, 'bo')\n",
        "plt.plot(x1, y1, 'ro')\n",
        "plt.show()"
      ],
      "execution_count": 36,
      "outputs": [
        {
          "output_type": "display_data",
          "data": {
            "image/png": "[encoded data removed]",
            "text/plain": [
              "<Figure size 432x288 with 1 Axes>"
            ]
          },
          "metadata": {
            "tags": [],
            "needs_background": "light"
          }
        }
      ]
    },
    {
      "cell_type": "code",
      "metadata": {
        "colab": {
          "base_uri": "https://localhost:8080/"
        },
        "id": "9Tr93wMuW95d",
        "outputId": "08448d94-11f2-4b5c-bbcc-39e194f8691b"
      },
      "source": [
        "# Média de idade para quem sobreviveu e não sobreviveu\n",
        "\n",
        "print(f'Média da idade dos não sobreviventes: {round(x0.mean(), 2)}')\n",
        "print(f'Média da idade dos sobreviventes: {round(x1.mean(), 2)}')"
      ],
      "execution_count": 37,
      "outputs": [
        {
          "output_type": "stream",
          "text": [
            "Média da idade dos não sobreviventes: 30.63\n",
            "Média da idade dos sobreviventes: 28.34\n"
          ],
          "name": "stdout"
        }
      ]
    },
    {
      "cell_type": "markdown",
      "metadata": {
        "id": "VEhLZpzEXC9Z"
      },
      "source": [
        "A baixa diferença entre as médias de idade mostra que tal atributo não influencia de forma significativa na classificação."
      ]
    },
    {
      "cell_type": "markdown",
      "metadata": {
        "id": "E8NHZhzyXdnc"
      },
      "source": [
        "## Modificações nos dados"
      ]
    },
    {
      "cell_type": "code",
      "metadata": {
        "id": "ydsvYzQpXoAv"
      },
      "source": [
        "from copy import deepcopy\n",
        "\n",
        "# Voltando ao nome original\n",
        "data_train.columns = columns_train_original"
      ],
      "execution_count": 38,
      "outputs": []
    },
    {
      "cell_type": "code",
      "metadata": {
        "id": "GqNoUhlzY5SG"
      },
      "source": [
        "# Deletando colunas insignificantes para o processamento\n",
        "\n",
        "def delete_some_columns(data):\n",
        "  data = deepcopy(data)\n",
        "  del data[\"Ticket\"]\n",
        "  del data[\"Embarked\"] # Provado sua irrelevância na análise\n",
        "  del data[\"Cabin\"] # Somente a primeira classe possui uma cabine, logo, é irrelevante.\n",
        "  del data[\"Age\"] # Irrelevante\n",
        "  \n",
        "  return data"
      ],
      "execution_count": 39,
      "outputs": []
    },
    {
      "cell_type": "code",
      "metadata": {
        "id": "dTPpyw4wZTMo"
      },
      "source": [
        "# Acréscimo de colunas classificatórias pelo nome.\n",
        "# Como há muitas nomeclaturas, o código agrupará nas principais e com maior quantidade, no caso, em:\n",
        "# \"mr, mrs, miss, master\"\n",
        "\n",
        "def define_nomen(line):\n",
        "  name = line[\"Name\"]\n",
        "\n",
        "  theNomen = \"\"\n",
        "\n",
        "  # Qual título o nome possui\n",
        "  for nomen in nomenclatures:\n",
        "    if nomen in name:\n",
        "      theNomen = nomen\n",
        "      break\n",
        "  \n",
        "  # Retirando o ponto\n",
        "  theNomen = theNomen.replace('.', '')\n",
        "\n",
        "  if theNomen in ['Don', 'Major', 'Capt', 'Jonkheer', 'Rev', 'Col']:\n",
        "    return 'Mr'\n",
        "  elif theNomen in ['Countess', 'Mme']:\n",
        "    return 'Mrs'\n",
        "  elif theNomen in ['Mlle', 'Ms']:\n",
        "    return 'Miss'\n",
        "  elif theNomen =='Dr':\n",
        "      if line['Sex']=='Male':\n",
        "          return 'Mr'\n",
        "      else:\n",
        "          return 'Mrs'\n",
        "  else:\n",
        "    return theNomen\n",
        "\n",
        "def replace_the_column_name(data):\n",
        "  data = deepcopy(data)\n",
        "\n",
        "  data[\"Name\"] = data.apply(define_nomen, axis=1)\n",
        "\n",
        "  data[\"IsMr\"] = (data[\"Name\"] == \"Mr\").astype(int)\n",
        "  data[\"IsMrs\"] = (data[\"Name\"] == \"Mrs\").astype(int)\n",
        "  data[\"IsMiss\"] = (data[\"Name\"] == \"Miss\").astype(int)\n",
        "  data[\"IsMaster\"] = (data[\"Name\"] == \"Master\").astype(int)\n",
        "\n",
        "  del data[\"Name\"]\n",
        "\n",
        "  return data"
      ],
      "execution_count": 40,
      "outputs": []
    },
    {
      "cell_type": "code",
      "metadata": {
        "id": "g8sqTrAkcypL"
      },
      "source": [
        "def modification_data(data):\n",
        "  data = replace_the_column_name(data)\n",
        "  data = delete_some_columns(data)\n",
        "\n",
        "  # Transformando as colunas de diferentes tipos em colunas binárias\n",
        "  data[\"Pclass\"] = data[\"Pclass\"].astype(str)\n",
        "  data = data.join(pd.get_dummies(data[[\"Sex\", \"Pclass\"]]))\n",
        "\n",
        "  del data[\"Sex\"]\n",
        "\n",
        "  # Caso tenha valores nulos, preencha com a média\n",
        "  data[\"Fare\"].fillna(data[\"Fare\"].mean(), inplace=True)\n",
        "\n",
        "  # Normalizando a taxa\n",
        "  fare = data[\"Fare\"]\n",
        "  data[\"Fare\"] = (fare - fare.mean()) / fare.std()\n",
        "\n",
        "  return data"
      ],
      "execution_count": 41,
      "outputs": []
    },
    {
      "cell_type": "markdown",
      "metadata": {
        "id": "zpw3h5_Ajkql"
      },
      "source": [
        "## Machine Learning"
      ]
    },
    {
      "cell_type": "code",
      "metadata": {
        "colab": {
          "base_uri": "https://localhost:8080/",
          "height": 203
        },
        "id": "FSXrt83Jjnad",
        "outputId": "6a4524d7-2fa5-4f4c-bde1-0a3b3eee82ea"
      },
      "source": [
        "data_train_oficial = modification_data(data_train)\n",
        "\n",
        "x_train = data_train_oficial.drop([\"Survived\", \"PassengerId\"], axis=1)\n",
        "y_train = data_train_oficial[\"Survived\"]\n",
        "\n",
        "row_x_test = modification_data(data_test)\n",
        "x_test = row_x_test.drop([\"PassengerId\"], axis=1)\n",
        "\n",
        "x_test.head()"
      ],
      "execution_count": 42,
      "outputs": [
        {
          "output_type": "execute_result",
          "data": {
            "text/html": [
              "<div>\n",
              "<style scoped>\n",
              "    .dataframe tbody tr th:only-of-type {\n",
              "        vertical-align: middle;\n",
              "    }\n",
              "\n",
              "    .dataframe tbody tr th {\n",
              "        vertical-align: top;\n",
              "    }\n",
              "\n",
              "    .dataframe thead th {\n",
              "        text-align: right;\n",
              "    }\n",
              "</style>\n",
              "<table border=\"1\" class=\"dataframe\">\n",
              "  <thead>\n",
              "    <tr style=\"text-align: right;\">\n",
              "      <th></th>\n",
              "      <th>Pclass</th>\n",
              "      <th>SibSp</th>\n",
              "      <th>Parch</th>\n",
              "      <th>Fare</th>\n",
              "      <th>IsMr</th>\n",
              "      <th>IsMrs</th>\n",
              "      <th>IsMiss</th>\n",
              "      <th>IsMaster</th>\n",
              "      <th>Sex_female</th>\n",
              "      <th>Sex_male</th>\n",
              "      <th>Pclass_1</th>\n",
              "      <th>Pclass_2</th>\n",
              "      <th>Pclass_3</th>\n",
              "    </tr>\n",
              "  </thead>\n",
              "  <tbody>\n",
              "    <tr>\n",
              "      <th>0</th>\n",
              "      <td>3</td>\n",
              "      <td>0</td>\n",
              "      <td>0</td>\n",
              "      <td>-0.497811</td>\n",
              "      <td>1</td>\n",
              "      <td>0</td>\n",
              "      <td>0</td>\n",
              "      <td>0</td>\n",
              "      <td>0</td>\n",
              "      <td>1</td>\n",
              "      <td>0</td>\n",
              "      <td>0</td>\n",
              "      <td>1</td>\n",
              "    </tr>\n",
              "    <tr>\n",
              "      <th>1</th>\n",
              "      <td>3</td>\n",
              "      <td>1</td>\n",
              "      <td>0</td>\n",
              "      <td>-0.512660</td>\n",
              "      <td>0</td>\n",
              "      <td>1</td>\n",
              "      <td>0</td>\n",
              "      <td>0</td>\n",
              "      <td>1</td>\n",
              "      <td>0</td>\n",
              "      <td>0</td>\n",
              "      <td>0</td>\n",
              "      <td>1</td>\n",
              "    </tr>\n",
              "    <tr>\n",
              "      <th>2</th>\n",
              "      <td>2</td>\n",
              "      <td>0</td>\n",
              "      <td>0</td>\n",
              "      <td>-0.464532</td>\n",
              "      <td>1</td>\n",
              "      <td>0</td>\n",
              "      <td>0</td>\n",
              "      <td>0</td>\n",
              "      <td>0</td>\n",
              "      <td>1</td>\n",
              "      <td>0</td>\n",
              "      <td>1</td>\n",
              "      <td>0</td>\n",
              "    </tr>\n",
              "    <tr>\n",
              "      <th>3</th>\n",
              "      <td>3</td>\n",
              "      <td>0</td>\n",
              "      <td>0</td>\n",
              "      <td>-0.482888</td>\n",
              "      <td>1</td>\n",
              "      <td>0</td>\n",
              "      <td>0</td>\n",
              "      <td>0</td>\n",
              "      <td>0</td>\n",
              "      <td>1</td>\n",
              "      <td>0</td>\n",
              "      <td>0</td>\n",
              "      <td>1</td>\n",
              "    </tr>\n",
              "    <tr>\n",
              "      <th>4</th>\n",
              "      <td>3</td>\n",
              "      <td>1</td>\n",
              "      <td>1</td>\n",
              "      <td>-0.417971</td>\n",
              "      <td>0</td>\n",
              "      <td>1</td>\n",
              "      <td>0</td>\n",
              "      <td>0</td>\n",
              "      <td>1</td>\n",
              "      <td>0</td>\n",
              "      <td>0</td>\n",
              "      <td>0</td>\n",
              "      <td>1</td>\n",
              "    </tr>\n",
              "  </tbody>\n",
              "</table>\n",
              "</div>"
            ],
            "text/plain": [
              "  Pclass  SibSp  Parch      Fare  ...  Sex_male  Pclass_1  Pclass_2  Pclass_3\n",
              "0      3      0      0 -0.497811  ...         1         0         0         1\n",
              "1      3      1      0 -0.512660  ...         0         0         0         1\n",
              "2      2      0      0 -0.464532  ...         1         0         1         0\n",
              "3      3      0      0 -0.482888  ...         1         0         0         1\n",
              "4      3      1      1 -0.417971  ...         0         0         0         1\n",
              "\n",
              "[5 rows x 13 columns]"
            ]
          },
          "metadata": {
            "tags": []
          },
          "execution_count": 42
        }
      ]
    },
    {
      "cell_type": "markdown",
      "metadata": {
        "id": "wSXgklI9kb12"
      },
      "source": [
        "### Treinando modelos"
      ]
    },
    {
      "cell_type": "code",
      "metadata": {
        "id": "4x4azDjojAFs"
      },
      "source": [
        "def train_and_save_model(model, x_train, y_train, x_test, path):\n",
        "  model.fit(x_train, y_train)\n",
        "\n",
        "  predict = model.predict(x_test)\n",
        "\n",
        "  save = pd.DataFrame()\n",
        "  save[\"PassengerId\"] = row_x_test[\"PassengerId\"].astype(int)\n",
        "  save[\"Survived\"] = predict\n",
        "\n",
        "  save.to_csv(path, index=False)\n"
      ],
      "execution_count": 43,
      "outputs": []
    },
    {
      "cell_type": "code",
      "metadata": {
        "id": "yDKm7X3ZkelN"
      },
      "source": [
        "from sklearn.linear_model import LogisticRegression\n",
        "from sklearn.tree import DecisionTreeClassifier\n",
        "from sklearn.ensemble import RandomForestClassifier\n",
        "from sklearn.metrics import accuracy_score\n",
        "\n",
        "# Treinando modelo\n",
        "model_logistic = LogisticRegression(max_iter=1000)\n",
        "model_tree = DecisionTreeClassifier()\n",
        "model_forest = RandomForestClassifier(n_estimators=100, max_depth=3, random_state=2)\n",
        "\n",
        "train_and_save_model(model_logistic, x_train, y_train, x_test, 'logistic.csv')\n",
        "train_and_save_model(model_tree, x_train, y_train, x_test, 'tree.csv')\n",
        "train_and_save_model(model_forest, x_train, y_train, x_test, 'forest.csv')"
      ],
      "execution_count": 44,
      "outputs": []
    },
    {
      "cell_type": "markdown",
      "metadata": {
        "id": "V8rEo9DffCCf"
      },
      "source": [
        "## Modificação na forma dos dados\n",
        "\n",
        "Como Random Forest teve maior precisão nas submissões, ele será utilizado na nova tentativa, que se baseará em dividir os dados familiares."
      ]
    },
    {
      "cell_type": "code",
      "metadata": {
        "id": "ixQffFVjfEFf"
      },
      "source": [
        "def modification_data_2(data):\n",
        "  data = modification_data(data)\n",
        "\n",
        "  # Retirando as formas de título e a taxa\n",
        "  del data[\"IsMr\"]\n",
        "  del data[\"IsMrs\"]\n",
        "  del data[\"IsMiss\"]\n",
        "  del data[\"IsMaster\"]\n",
        "  del data[\"Fare\"]\n",
        "\n",
        "  types = [\"Parch\", \"SibSp\"]\n",
        "  \n",
        "  for _type in types:\n",
        "    data[_type] = data[_type].astype(str)\n",
        "\n",
        "  data_parents = pd.get_dummies(data[types])\n",
        "\n",
        "  for _type in types:\n",
        "    del data[_type]\n",
        "\n",
        "  data = data.join(data_parents)\n",
        "\n",
        "  return data"
      ],
      "execution_count": 45,
      "outputs": []
    },
    {
      "cell_type": "code",
      "metadata": {
        "colab": {
          "base_uri": "https://localhost:8080/",
          "height": 223
        },
        "id": "FpVhhUnjht9V",
        "outputId": "3ee139f1-806a-4d53-cd5e-b2fc42eb2be9"
      },
      "source": [
        "data_train_oficial = modification_data_2(data_train)\n",
        "\n",
        "x_train = data_train_oficial.drop([\"Survived\", \"PassengerId\"], axis=1)\n",
        "y_train = data_train_oficial[\"Survived\"]\n",
        "\n",
        "row_x_test = modification_data_2(data_test)\n",
        "x_test = row_x_test.drop([\"PassengerId\"], axis=1)\n",
        "\n",
        "del x_test[\"Parch_9\"] # Motivos de igualdade entre os dados de teste e treino\n",
        "\n",
        "x_test.head()"
      ],
      "execution_count": 46,
      "outputs": [
        {
          "output_type": "execute_result",
          "data": {
            "text/html": [
              "<div>\n",
              "<style scoped>\n",
              "    .dataframe tbody tr th:only-of-type {\n",
              "        vertical-align: middle;\n",
              "    }\n",
              "\n",
              "    .dataframe tbody tr th {\n",
              "        vertical-align: top;\n",
              "    }\n",
              "\n",
              "    .dataframe thead th {\n",
              "        text-align: right;\n",
              "    }\n",
              "</style>\n",
              "<table border=\"1\" class=\"dataframe\">\n",
              "  <thead>\n",
              "    <tr style=\"text-align: right;\">\n",
              "      <th></th>\n",
              "      <th>Pclass</th>\n",
              "      <th>Sex_female</th>\n",
              "      <th>Sex_male</th>\n",
              "      <th>Pclass_1</th>\n",
              "      <th>Pclass_2</th>\n",
              "      <th>Pclass_3</th>\n",
              "      <th>Parch_0</th>\n",
              "      <th>Parch_1</th>\n",
              "      <th>Parch_2</th>\n",
              "      <th>Parch_3</th>\n",
              "      <th>Parch_4</th>\n",
              "      <th>Parch_5</th>\n",
              "      <th>Parch_6</th>\n",
              "      <th>SibSp_0</th>\n",
              "      <th>SibSp_1</th>\n",
              "      <th>SibSp_2</th>\n",
              "      <th>SibSp_3</th>\n",
              "      <th>SibSp_4</th>\n",
              "      <th>SibSp_5</th>\n",
              "      <th>SibSp_8</th>\n",
              "    </tr>\n",
              "  </thead>\n",
              "  <tbody>\n",
              "    <tr>\n",
              "      <th>0</th>\n",
              "      <td>3</td>\n",
              "      <td>0</td>\n",
              "      <td>1</td>\n",
              "      <td>0</td>\n",
              "      <td>0</td>\n",
              "      <td>1</td>\n",
              "      <td>1</td>\n",
              "      <td>0</td>\n",
              "      <td>0</td>\n",
              "      <td>0</td>\n",
              "      <td>0</td>\n",
              "      <td>0</td>\n",
              "      <td>0</td>\n",
              "      <td>1</td>\n",
              "      <td>0</td>\n",
              "      <td>0</td>\n",
              "      <td>0</td>\n",
              "      <td>0</td>\n",
              "      <td>0</td>\n",
              "      <td>0</td>\n",
              "    </tr>\n",
              "    <tr>\n",
              "      <th>1</th>\n",
              "      <td>3</td>\n",
              "      <td>1</td>\n",
              "      <td>0</td>\n",
              "      <td>0</td>\n",
              "      <td>0</td>\n",
              "      <td>1</td>\n",
              "      <td>1</td>\n",
              "      <td>0</td>\n",
              "      <td>0</td>\n",
              "      <td>0</td>\n",
              "      <td>0</td>\n",
              "      <td>0</td>\n",
              "      <td>0</td>\n",
              "      <td>0</td>\n",
              "      <td>1</td>\n",
              "      <td>0</td>\n",
              "      <td>0</td>\n",
              "      <td>0</td>\n",
              "      <td>0</td>\n",
              "      <td>0</td>\n",
              "    </tr>\n",
              "    <tr>\n",
              "      <th>2</th>\n",
              "      <td>2</td>\n",
              "      <td>0</td>\n",
              "      <td>1</td>\n",
              "      <td>0</td>\n",
              "      <td>1</td>\n",
              "      <td>0</td>\n",
              "      <td>1</td>\n",
              "      <td>0</td>\n",
              "      <td>0</td>\n",
              "      <td>0</td>\n",
              "      <td>0</td>\n",
              "      <td>0</td>\n",
              "      <td>0</td>\n",
              "      <td>1</td>\n",
              "      <td>0</td>\n",
              "      <td>0</td>\n",
              "      <td>0</td>\n",
              "      <td>0</td>\n",
              "      <td>0</td>\n",
              "      <td>0</td>\n",
              "    </tr>\n",
              "    <tr>\n",
              "      <th>3</th>\n",
              "      <td>3</td>\n",
              "      <td>0</td>\n",
              "      <td>1</td>\n",
              "      <td>0</td>\n",
              "      <td>0</td>\n",
              "      <td>1</td>\n",
              "      <td>1</td>\n",
              "      <td>0</td>\n",
              "      <td>0</td>\n",
              "      <td>0</td>\n",
              "      <td>0</td>\n",
              "      <td>0</td>\n",
              "      <td>0</td>\n",
              "      <td>1</td>\n",
              "      <td>0</td>\n",
              "      <td>0</td>\n",
              "      <td>0</td>\n",
              "      <td>0</td>\n",
              "      <td>0</td>\n",
              "      <td>0</td>\n",
              "    </tr>\n",
              "    <tr>\n",
              "      <th>4</th>\n",
              "      <td>3</td>\n",
              "      <td>1</td>\n",
              "      <td>0</td>\n",
              "      <td>0</td>\n",
              "      <td>0</td>\n",
              "      <td>1</td>\n",
              "      <td>0</td>\n",
              "      <td>1</td>\n",
              "      <td>0</td>\n",
              "      <td>0</td>\n",
              "      <td>0</td>\n",
              "      <td>0</td>\n",
              "      <td>0</td>\n",
              "      <td>0</td>\n",
              "      <td>1</td>\n",
              "      <td>0</td>\n",
              "      <td>0</td>\n",
              "      <td>0</td>\n",
              "      <td>0</td>\n",
              "      <td>0</td>\n",
              "    </tr>\n",
              "  </tbody>\n",
              "</table>\n",
              "</div>"
            ],
            "text/plain": [
              "  Pclass  Sex_female  Sex_male  Pclass_1  ...  SibSp_3  SibSp_4  SibSp_5  SibSp_8\n",
              "0      3           0         1         0  ...        0        0        0        0\n",
              "1      3           1         0         0  ...        0        0        0        0\n",
              "2      2           0         1         0  ...        0        0        0        0\n",
              "3      3           0         1         0  ...        0        0        0        0\n",
              "4      3           1         0         0  ...        0        0        0        0\n",
              "\n",
              "[5 rows x 20 columns]"
            ]
          },
          "metadata": {
            "tags": []
          },
          "execution_count": 46
        }
      ]
    },
    {
      "cell_type": "code",
      "metadata": {
        "id": "AZ4arCsgh0Ht"
      },
      "source": [
        "from sklearn.ensemble import RandomForestClassifier\n",
        "\n",
        "model_forest_2 = RandomForestClassifier(n_estimators=100, max_depth=3, random_state=2)\n",
        "\n",
        "train_and_save_model(model_forest_2, x_train, y_train, x_test, 'forest2.csv')"
      ],
      "execution_count": 47,
      "outputs": []
    },
    {
      "cell_type": "markdown",
      "metadata": {
        "id": "aK67P3jep3ec"
      },
      "source": [
        "## Conclusão\n",
        "\n",
        "O Score de cada modelo foi:\n",
        "\n",
        "- Regressão Logística: **77,5%** \n",
        "- Árvore de Decisão: **75,3%**\n",
        "- Random Forest: **78,9%**\n",
        "- 2° Random Forest: **77,5%**\n",
        "\n",
        "Concluindo, as hipóteses foram verificadas e novos caminhos surgiram. De tal forma, com mudanças nos atributos de família, não resultou em uma melhora no modelo. No entanto, o resultado foi satisfatório para o proposto, com a precisão estando entre os **10% melhores do desafio**."
      ]
    }
  ]
}